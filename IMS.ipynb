{
  "nbformat": 4,
  "nbformat_minor": 0,
  "metadata": {
    "colab": {
      "name": "IMS.ipynb",
      "provenance": [],
      "collapsed_sections": []
    },
    "kernelspec": {
      "name": "python3",
      "display_name": "Python 3"
    },
    "language_info": {
      "name": "python"
    }
  },
  "cells": [
    {
      "cell_type": "markdown",
      "metadata": {
        "id": "RPc-lrjEEQlF"
      },
      "source": [
        "# Read Inventory"
      ]
    },
    {
      "cell_type": "code",
      "metadata": {
        "id": "cGk2oCzbLVvK"
      },
      "source": [
        "import json\n",
        "\n",
        "fd = open(\"hotel.json\",'r')\n",
        "r= fd.read()\n",
        "fd.close()"
      ],
      "execution_count": 12,
      "outputs": []
    },
    {
      "cell_type": "code",
      "metadata": {
        "id": "ck3fh8BCLXBI"
      },
      "source": [
        "hotel_data = json.loads(r)"
      ],
      "execution_count": 5,
      "outputs": []
    },
    {
      "cell_type": "code",
      "metadata": {
        "colab": {
          "base_uri": "https://localhost:8080/"
        },
        "id": "zZjjCWLaLg2A",
        "outputId": "9363e01f-34c3-437f-9e97-8d1eded9eb79"
      },
      "source": [
        "hotel_data"
      ],
      "execution_count": 6,
      "outputs": [
        {
          "output_type": "execute_result",
          "data": {
            "text/plain": [
              "{'1001': {'item': 'Choco Cake',\n",
              "  'price': 100,\n",
              "  'quantity': 10,\n",
              "  'type': 'desert'},\n",
              " '1002': {'item': 'Cake', 'price': 170, 'quantity': 10, 'type': 'desert'},\n",
              " '1003': {'item': 'panner tikka',\n",
              "  'price': 120,\n",
              "  'quantity': 2,\n",
              "  'type': 'sabji'},\n",
              " '1004': {'item': 'coffee',\n",
              "  'price': 20,\n",
              "  'quantity': 5,\n",
              "  'type': 'hot beverage'},\n",
              " '1005': {'item': 'Hot chocolate',\n",
              "  'price': 35,\n",
              "  'quantity': 10,\n",
              "  'type': 'hot beverage'},\n",
              " '1006': {'item': 'Upma', 'price': 30, 'quantity': 5, 'type': 'snacks'},\n",
              " '1007': {'item': 'Idli', 'price': 34, 'quantity': 10, 'type': 'steam idli'},\n",
              " '1008': {'item': 'tea', 'price': 15, 'quantity': 9, 'type': 'hot beverage'},\n",
              " '1009': {'item': 'Dahi Vada', 'price': 48, 'quantity': 10, 'type': 'Vada '},\n",
              " '1010': {'item': 'fry papad', 'price': 30, 'quantity': 10, 'type': 'Papad'},\n",
              " '1011': {'item': 'Kesar Falooda',\n",
              "  'price': 80,\n",
              "  'quantity': 5,\n",
              "  'type': 'falooda'},\n",
              " '1012': {'item': 'Nescafe',\n",
              "  'price': 28,\n",
              "  'quantity': 5,\n",
              "  'type': 'hot beverage'},\n",
              " '1013': {'item': 'Apple milk shake',\n",
              "  'price': 100,\n",
              "  'quantity': 10,\n",
              "  'type': 'Milk shake'},\n",
              " '1014': {'item': 'Butter Scotch',\n",
              "  'price': 130,\n",
              "  'quantity': 20,\n",
              "  'type': 'Ice-Cream'},\n",
              " '1015': {'item': 'Pista kulfi', 'price': 55, 'quantity': 3, 'type': 'Kulfi'},\n",
              " '1016': {'item': 'Tomato Soup', 'price': 40, 'quantity': 5, 'type': 'Soup'},\n",
              " '1017': {'item': 'Masala Dosa', 'price': 120, 'quantity': 10, 'type': 'Dosa'},\n",
              " '1018': {'item': 'Corn Salad', 'price': 80, 'quantity': 2, 'type': 'Salad'},\n",
              " '1019': {'item': 'Cheese Sandwich',\n",
              "  'price': 100,\n",
              "  'quantity': 1,\n",
              "  'type': 'Sandwich'},\n",
              " '1020': {'item': 'Kesar Pista kulfi',\n",
              "  'price': 55,\n",
              "  'quantity': 7,\n",
              "  'type': 'Kulfi'},\n",
              " '1021': {'item': 'Kashmiri Biryani',\n",
              "  'price': 190,\n",
              "  'quantity': 3,\n",
              "  'type': 'Biryani'},\n",
              " '1022': {'item': 'Vanilla Cup small',\n",
              "  'price': 110,\n",
              "  'quantity': 25,\n",
              "  'type': 'Ice-Cream'},\n",
              " '1023': {'item': 'Butter Milk',\n",
              "  'price': 35,\n",
              "  'quantity': 2,\n",
              "  'type': 'hot beverage'},\n",
              " '1024': {'item': 'Cold coffee',\n",
              "  'price': 100,\n",
              "  'quantity': 17,\n",
              "  'type': 'Milk shake'},\n",
              " '1025': {'item': 'Fresh Green Salad',\n",
              "  'price': 80,\n",
              "  'quantity': 1,\n",
              "  'type': 'Salad'},\n",
              " '1026': {'item': 'Butter Dosa', 'price': 90, 'quantity': 4, 'type': 'Dosa'},\n",
              " '1027': {'item': 'Mango milk shake',\n",
              "  'price': 100,\n",
              "  'quantity': 8,\n",
              "  'type': 'Milk shake'},\n",
              " '1028': {'item': 'Palak Soup', 'price': 40, 'quantity': 5, 'type': 'Soup'},\n",
              " '1029': {'item': 'Rose Falooda',\n",
              "  'price': 85,\n",
              "  'quantity': 6,\n",
              "  'type': 'falooda'},\n",
              " '1030': {'item': 'Veg Sandwich',\n",
              "  'price': 100,\n",
              "  'quantity': 1,\n",
              "  'type': 'Sandwich'}}"
            ]
          },
          "metadata": {},
          "execution_count": 6
        }
      ]
    },
    {
      "cell_type": "markdown",
      "metadata": {
        "id": "CSVvYsOAMztP"
      },
      "source": [
        "# Purchase and Update Inventory after purchase"
      ]
    },
    {
      "cell_type": "code",
      "metadata": {
        "id": "36YsX7YjM6Nj",
        "colab": {
          "base_uri": "https://localhost:8080/"
        },
        "outputId": "3db0dbfd-c3d8-446b-c838-0fd6bcad929a"
      },
      "source": [
        "id = str(input(\"Enter item id:\"))\n",
        "item = str(input(\"Enter  item name:\"))\n",
        "price = str(input(\"Enter item price:\"))\n",
        "item_type = str(input(\"Enter item type :\"))\n",
        "quantity = int(input(\"Enter item quantity:\"))\n",
        "\n",
        "hotel_data[id] = {'item': item, 'price': price, 'type' : item_type, 'quantity': quantity}\n",
        "\n",
        "js = json.dumps(hotel_data)\n",
        "\n",
        "f = open(\"hotel.json\",'w')\n",
        "f.write(js)\n",
        "f.close()"
      ],
      "execution_count": 7,
      "outputs": [
        {
          "name": "stdout",
          "output_type": "stream",
          "text": [
            "Enter item id:10033\n",
            "Enter  item name:noodles\n",
            "Enter item price:75\n",
            "Enter item type :snacks\n",
            "Enter item quantity:1\n"
          ]
        }
      ]
    },
    {
      "cell_type": "markdown",
      "metadata": {
        "id": "JAV8iXW8bZT1"
      },
      "source": [
        "#Sales JSON"
      ]
    },
    {
      "cell_type": "code",
      "metadata": {
        "colab": {
          "base_uri": "https://localhost:8080/"
        },
        "id": "VJD50u25a3e9",
        "outputId": "3aee559d-1b9c-4785-988b-70d8eb1e2013"
      },
      "source": [
        "hotel_data\n"
      ],
      "execution_count": 9,
      "outputs": [
        {
          "output_type": "execute_result",
          "data": {
            "text/plain": [
              "{'1001': {'item': 'Choco Cake',\n",
              "  'price': 100,\n",
              "  'quantity': 10,\n",
              "  'type': 'desert'},\n",
              " '1002': {'item': 'Cake', 'price': 170, 'quantity': 10, 'type': 'desert'},\n",
              " '1003': {'item': 'panner tikka',\n",
              "  'price': 120,\n",
              "  'quantity': 2,\n",
              "  'type': 'sabji'},\n",
              " '10033': {'item': 'noodles', 'price': '75', 'quantity': 1, 'type': 'snacks'},\n",
              " '1004': {'item': 'coffee',\n",
              "  'price': 20,\n",
              "  'quantity': 5,\n",
              "  'type': 'hot beverage'},\n",
              " '1005': {'item': 'Hot chocolate',\n",
              "  'price': 35,\n",
              "  'quantity': 10,\n",
              "  'type': 'hot beverage'},\n",
              " '1006': {'item': 'Upma', 'price': 30, 'quantity': 5, 'type': 'snacks'},\n",
              " '1007': {'item': 'Idli', 'price': 34, 'quantity': 10, 'type': 'steam idli'},\n",
              " '1008': {'item': 'tea', 'price': 15, 'quantity': 9, 'type': 'hot beverage'},\n",
              " '1009': {'item': 'Dahi Vada', 'price': 48, 'quantity': 10, 'type': 'Vada '},\n",
              " '1010': {'item': 'fry papad', 'price': 30, 'quantity': 10, 'type': 'Papad'},\n",
              " '1011': {'item': 'Kesar Falooda',\n",
              "  'price': 80,\n",
              "  'quantity': 5,\n",
              "  'type': 'falooda'},\n",
              " '1012': {'item': 'Nescafe',\n",
              "  'price': 28,\n",
              "  'quantity': 5,\n",
              "  'type': 'hot beverage'},\n",
              " '1013': {'item': 'Apple milk shake',\n",
              "  'price': 100,\n",
              "  'quantity': 10,\n",
              "  'type': 'Milk shake'},\n",
              " '1014': {'item': 'Butter Scotch',\n",
              "  'price': 130,\n",
              "  'quantity': 20,\n",
              "  'type': 'Ice-Cream'},\n",
              " '1015': {'item': 'Pista kulfi', 'price': 55, 'quantity': 3, 'type': 'Kulfi'},\n",
              " '1016': {'item': 'Tomato Soup', 'price': 40, 'quantity': 5, 'type': 'Soup'},\n",
              " '1017': {'item': 'Masala Dosa', 'price': 120, 'quantity': 10, 'type': 'Dosa'},\n",
              " '1018': {'item': 'Corn Salad', 'price': 80, 'quantity': 2, 'type': 'Salad'},\n",
              " '1019': {'item': 'Cheese Sandwich',\n",
              "  'price': 100,\n",
              "  'quantity': 1,\n",
              "  'type': 'Sandwich'},\n",
              " '1020': {'item': 'Kesar Pista kulfi',\n",
              "  'price': 55,\n",
              "  'quantity': 7,\n",
              "  'type': 'Kulfi'},\n",
              " '1021': {'item': 'Kashmiri Biryani',\n",
              "  'price': 190,\n",
              "  'quantity': 3,\n",
              "  'type': 'Biryani'},\n",
              " '1022': {'item': 'Vanilla Cup small',\n",
              "  'price': 110,\n",
              "  'quantity': 25,\n",
              "  'type': 'Ice-Cream'},\n",
              " '1023': {'item': 'Butter Milk',\n",
              "  'price': 35,\n",
              "  'quantity': 2,\n",
              "  'type': 'hot beverage'},\n",
              " '1024': {'item': 'Cold coffee',\n",
              "  'price': 100,\n",
              "  'quantity': 17,\n",
              "  'type': 'Milk shake'},\n",
              " '1025': {'item': 'Fresh Green Salad',\n",
              "  'price': 80,\n",
              "  'quantity': 1,\n",
              "  'type': 'Salad'},\n",
              " '1026': {'item': 'Butter Dosa', 'price': 90, 'quantity': 4, 'type': 'Dosa'},\n",
              " '1027': {'item': 'Mango milk shake',\n",
              "  'price': 100,\n",
              "  'quantity': 8,\n",
              "  'type': 'Milk shake'},\n",
              " '1028': {'item': 'Palak Soup', 'price': 40, 'quantity': 5, 'type': 'Soup'},\n",
              " '1029': {'item': 'Rose Falooda',\n",
              "  'price': 85,\n",
              "  'quantity': 6,\n",
              "  'type': 'falooda'},\n",
              " '1030': {'item': 'Veg Sandwich',\n",
              "  'price': 100,\n",
              "  'quantity': 1,\n",
              "  'type': 'Sandwich'}}"
            ]
          },
          "metadata": {},
          "execution_count": 9
        }
      ]
    },
    {
      "cell_type": "code",
      "metadata": {
        "colab": {
          "base_uri": "https://localhost:8080/"
        },
        "id": "rawA9bDsbe1u",
        "outputId": "25c455e9-05fa-407d-9a07-048721fc8c79"
      },
      "source": [
        "fi = open(\"sales.json\",\"w\")\n",
        "item_id = str(input(\"Enter the product Id: \"))\n",
        "item_quantity = int(input(\"Enter the quantity: \"))\n",
        "excli = \"\\nyou just bought\\t\"\n",
        "print(\"item: \", hotel_data[item_id]['item'])\n",
        "print(\"Price: \", hotel_data[item_id]['price'])\n",
        "print(\"item_type: \", hotel_data[item_id]['type'])\n",
        "print(\"quantity: \", hotel_data[item_id]['quantity'])\n",
        "print(\"Billing Amount: \", hotel_data[item_id]['price'] * item_quantity)\n",
        "amt = hotel_data[item_id]['price'] * item_quantity\n",
        "hotel_data[item_id]['quantity'] = hotel_data[item_id]['quantity'] - item_quantity\n",
        "\n",
        "\n",
        "fi.write(\"you just bought {} with quantity {} and price {}\\n \".format( str(hotel_data[item_id]['item']), int(item_quantity), int(hotel_data[item_id]['price'])))  \n",
        "fi.write('\\nyour total bill is {} '.format(amt))"
      ],
      "execution_count": 11,
      "outputs": [
        {
          "output_type": "stream",
          "name": "stdout",
          "text": [
            "Enter the product Id: 1006\n",
            "Enter the quantity: 2\n",
            "item:  Upma\n",
            "Price:  30\n",
            "item_type:  snacks\n",
            "quantity:  3\n",
            "Billing Amount:  60\n"
          ]
        },
        {
          "output_type": "execute_result",
          "data": {
            "text/plain": [
              "23"
            ]
          },
          "metadata": {},
          "execution_count": 11
        }
      ]
    }
  ]
}